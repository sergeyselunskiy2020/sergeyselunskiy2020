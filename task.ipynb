{
 "cells": [
  {
   "cell_type": "code",
   "execution_count": 1,
   "id": "a85ea60b",
   "metadata": {},
   "outputs": [],
   "source": [
    "import pandas as pd\n",
    "pd.set_option('display.float_format', '{:.2f}'.format)\n",
    "from datetime import datetime\n",
    "import numpy as np"
   ]
  },
  {
   "cell_type": "code",
   "execution_count": 2,
   "id": "2ac4df71",
   "metadata": {},
   "outputs": [],
   "source": [
    "data = pd.read_csv('01_data.csv', sep=';', parse_dates=['fulldate'])\n",
    "etalon = pd.read_csv('02_etalon.csv', sep=';')"
   ]
  },
  {
   "cell_type": "code",
   "execution_count": 3,
   "id": "1d775b77",
   "metadata": {},
   "outputs": [
    {
     "data": {
      "text/html": [
       "<div>\n",
       "<style scoped>\n",
       "    .dataframe tbody tr th:only-of-type {\n",
       "        vertical-align: middle;\n",
       "    }\n",
       "\n",
       "    .dataframe tbody tr th {\n",
       "        vertical-align: top;\n",
       "    }\n",
       "\n",
       "    .dataframe thead th {\n",
       "        text-align: right;\n",
       "    }\n",
       "</style>\n",
       "<table border=\"1\" class=\"dataframe\">\n",
       "  <thead>\n",
       "    <tr style=\"text-align: right;\">\n",
       "      <th></th>\n",
       "      <th>cid</th>\n",
       "      <th>hash_id</th>\n",
       "      <th>size</th>\n",
       "    </tr>\n",
       "  </thead>\n",
       "  <tbody>\n",
       "    <tr>\n",
       "      <th>325511</th>\n",
       "      <td>12822</td>\n",
       "      <td>2999841</td>\n",
       "      <td>2</td>\n",
       "    </tr>\n",
       "    <tr>\n",
       "      <th>1233955</th>\n",
       "      <td>197981206</td>\n",
       "      <td>2999841</td>\n",
       "      <td>1</td>\n",
       "    </tr>\n",
       "    <tr>\n",
       "      <th>1616783</th>\n",
       "      <td>231250434</td>\n",
       "      <td>2999841</td>\n",
       "      <td>1</td>\n",
       "    </tr>\n",
       "  </tbody>\n",
       "</table>\n",
       "</div>"
      ],
      "text/plain": [
       "               cid  hash_id  size\n",
       "325511       12822  2999841     2\n",
       "1233955  197981206  2999841     1\n",
       "1616783  231250434  2999841     1"
      ]
     },
     "execution_count": 3,
     "metadata": {},
     "output_type": "execute_result"
    }
   ],
   "source": [
    "#Сгруппируем данные по CID и hash_id и посчитаем количество значений в группе\n",
    "data2 = data[['cid', 'hash_id']].groupby(['cid', 'hash_id'], as_index=False).size().sort_values(by='hash_id', ascending=False)\n",
    "data2.head(3)"
   ]
  },
  {
   "cell_type": "code",
   "execution_count": 4,
   "id": "0be9217f",
   "metadata": {},
   "outputs": [
    {
     "data": {
      "text/html": [
       "<div>\n",
       "<style scoped>\n",
       "    .dataframe tbody tr th:only-of-type {\n",
       "        vertical-align: middle;\n",
       "    }\n",
       "\n",
       "    .dataframe tbody tr th {\n",
       "        vertical-align: top;\n",
       "    }\n",
       "\n",
       "    .dataframe thead th {\n",
       "        text-align: right;\n",
       "    }\n",
       "</style>\n",
       "<table border=\"1\" class=\"dataframe\">\n",
       "  <thead>\n",
       "    <tr style=\"text-align: right;\">\n",
       "      <th>cid</th>\n",
       "      <th>hash_id</th>\n",
       "      <th>1</th>\n",
       "      <th>2</th>\n",
       "      <th>3</th>\n",
       "      <th>4</th>\n",
       "      <th>5</th>\n",
       "      <th>6</th>\n",
       "      <th>7</th>\n",
       "      <th>8</th>\n",
       "      <th>9</th>\n",
       "      <th>...</th>\n",
       "      <th>254850304</th>\n",
       "      <th>254850305</th>\n",
       "      <th>254850306</th>\n",
       "      <th>254850307</th>\n",
       "      <th>254850308</th>\n",
       "      <th>254850309</th>\n",
       "      <th>254855680</th>\n",
       "      <th>254855681</th>\n",
       "      <th>254855683</th>\n",
       "      <th>254855684</th>\n",
       "    </tr>\n",
       "  </thead>\n",
       "  <tbody>\n",
       "    <tr>\n",
       "      <th>0</th>\n",
       "      <td>1000773</td>\n",
       "      <td>0.00</td>\n",
       "      <td>0.00</td>\n",
       "      <td>0.00</td>\n",
       "      <td>0.00</td>\n",
       "      <td>0.00</td>\n",
       "      <td>0.00</td>\n",
       "      <td>0.00</td>\n",
       "      <td>0.00</td>\n",
       "      <td>0.00</td>\n",
       "      <td>...</td>\n",
       "      <td>0.00</td>\n",
       "      <td>0.00</td>\n",
       "      <td>0.00</td>\n",
       "      <td>0.00</td>\n",
       "      <td>0.00</td>\n",
       "      <td>0.00</td>\n",
       "      <td>0.00</td>\n",
       "      <td>0.00</td>\n",
       "      <td>0.00</td>\n",
       "      <td>0.00</td>\n",
       "    </tr>\n",
       "    <tr>\n",
       "      <th>1</th>\n",
       "      <td>1000808</td>\n",
       "      <td>0.00</td>\n",
       "      <td>0.00</td>\n",
       "      <td>0.00</td>\n",
       "      <td>0.00</td>\n",
       "      <td>0.00</td>\n",
       "      <td>0.00</td>\n",
       "      <td>0.00</td>\n",
       "      <td>0.00</td>\n",
       "      <td>0.00</td>\n",
       "      <td>...</td>\n",
       "      <td>0.00</td>\n",
       "      <td>0.00</td>\n",
       "      <td>0.00</td>\n",
       "      <td>0.00</td>\n",
       "      <td>0.00</td>\n",
       "      <td>0.00</td>\n",
       "      <td>0.00</td>\n",
       "      <td>0.00</td>\n",
       "      <td>0.00</td>\n",
       "      <td>0.00</td>\n",
       "    </tr>\n",
       "    <tr>\n",
       "      <th>2</th>\n",
       "      <td>1000868</td>\n",
       "      <td>0.00</td>\n",
       "      <td>0.00</td>\n",
       "      <td>0.00</td>\n",
       "      <td>0.00</td>\n",
       "      <td>0.00</td>\n",
       "      <td>0.00</td>\n",
       "      <td>0.00</td>\n",
       "      <td>0.00</td>\n",
       "      <td>0.00</td>\n",
       "      <td>...</td>\n",
       "      <td>0.00</td>\n",
       "      <td>0.00</td>\n",
       "      <td>0.00</td>\n",
       "      <td>0.00</td>\n",
       "      <td>0.00</td>\n",
       "      <td>0.00</td>\n",
       "      <td>0.00</td>\n",
       "      <td>0.00</td>\n",
       "      <td>0.00</td>\n",
       "      <td>0.00</td>\n",
       "    </tr>\n",
       "  </tbody>\n",
       "</table>\n",
       "<p>3 rows × 75053 columns</p>\n",
       "</div>"
      ],
      "text/plain": [
       "cid  hash_id    1    2    3    4    5    6    7    8    9  ...  254850304  \\\n",
       "0    1000773 0.00 0.00 0.00 0.00 0.00 0.00 0.00 0.00 0.00  ...       0.00   \n",
       "1    1000808 0.00 0.00 0.00 0.00 0.00 0.00 0.00 0.00 0.00  ...       0.00   \n",
       "2    1000868 0.00 0.00 0.00 0.00 0.00 0.00 0.00 0.00 0.00  ...       0.00   \n",
       "\n",
       "cid  254850305  254850306  254850307  254850308  254850309  254855680  \\\n",
       "0         0.00       0.00       0.00       0.00       0.00       0.00   \n",
       "1         0.00       0.00       0.00       0.00       0.00       0.00   \n",
       "2         0.00       0.00       0.00       0.00       0.00       0.00   \n",
       "\n",
       "cid  254855681  254855683  254855684  \n",
       "0         0.00       0.00       0.00  \n",
       "1         0.00       0.00       0.00  \n",
       "2         0.00       0.00       0.00  \n",
       "\n",
       "[3 rows x 75053 columns]"
      ]
     },
     "execution_count": 4,
     "metadata": {},
     "output_type": "execute_result"
    }
   ],
   "source": [
    "#Сделаем сводную таблицу по каждому клиенту (hash_id), значения заполним - количеством значений в группе \n",
    "data2 = data2.pivot(index='hash_id', columns='cid', values = 'size').fillna(0).reset_index()\n",
    "data2.head(3)"
   ]
  },
  {
   "cell_type": "code",
   "execution_count": 5,
   "id": "182c8c29",
   "metadata": {},
   "outputs": [
    {
     "data": {
      "text/html": [
       "<div>\n",
       "<style scoped>\n",
       "    .dataframe tbody tr th:only-of-type {\n",
       "        vertical-align: middle;\n",
       "    }\n",
       "\n",
       "    .dataframe tbody tr th {\n",
       "        vertical-align: top;\n",
       "    }\n",
       "\n",
       "    .dataframe thead th {\n",
       "        text-align: right;\n",
       "    }\n",
       "</style>\n",
       "<table border=\"1\" class=\"dataframe\">\n",
       "  <thead>\n",
       "    <tr style=\"text-align: right;\">\n",
       "      <th>cid</th>\n",
       "      <th>1</th>\n",
       "      <th>2</th>\n",
       "      <th>3</th>\n",
       "      <th>4</th>\n",
       "      <th>5</th>\n",
       "      <th>6</th>\n",
       "      <th>7</th>\n",
       "      <th>8</th>\n",
       "      <th>9</th>\n",
       "      <th>10</th>\n",
       "      <th>...</th>\n",
       "      <th>254850304</th>\n",
       "      <th>254850305</th>\n",
       "      <th>254850306</th>\n",
       "      <th>254850307</th>\n",
       "      <th>254850308</th>\n",
       "      <th>254850309</th>\n",
       "      <th>254855680</th>\n",
       "      <th>254855681</th>\n",
       "      <th>254855683</th>\n",
       "      <th>254855684</th>\n",
       "    </tr>\n",
       "  </thead>\n",
       "  <tbody>\n",
       "    <tr>\n",
       "      <th>0</th>\n",
       "      <td>0.00</td>\n",
       "      <td>0.00</td>\n",
       "      <td>0.00</td>\n",
       "      <td>0.00</td>\n",
       "      <td>0.00</td>\n",
       "      <td>0.00</td>\n",
       "      <td>0.00</td>\n",
       "      <td>0.00</td>\n",
       "      <td>0.00</td>\n",
       "      <td>0.00</td>\n",
       "      <td>...</td>\n",
       "      <td>0.00</td>\n",
       "      <td>0.00</td>\n",
       "      <td>0.00</td>\n",
       "      <td>0.00</td>\n",
       "      <td>0.00</td>\n",
       "      <td>0.00</td>\n",
       "      <td>0.00</td>\n",
       "      <td>0.00</td>\n",
       "      <td>0.00</td>\n",
       "      <td>0.00</td>\n",
       "    </tr>\n",
       "    <tr>\n",
       "      <th>1</th>\n",
       "      <td>0.00</td>\n",
       "      <td>0.00</td>\n",
       "      <td>0.00</td>\n",
       "      <td>0.00</td>\n",
       "      <td>0.00</td>\n",
       "      <td>0.00</td>\n",
       "      <td>0.00</td>\n",
       "      <td>0.00</td>\n",
       "      <td>0.00</td>\n",
       "      <td>0.00</td>\n",
       "      <td>...</td>\n",
       "      <td>0.00</td>\n",
       "      <td>0.00</td>\n",
       "      <td>0.00</td>\n",
       "      <td>0.00</td>\n",
       "      <td>0.00</td>\n",
       "      <td>0.00</td>\n",
       "      <td>0.00</td>\n",
       "      <td>0.00</td>\n",
       "      <td>0.00</td>\n",
       "      <td>0.00</td>\n",
       "    </tr>\n",
       "    <tr>\n",
       "      <th>2</th>\n",
       "      <td>0.00</td>\n",
       "      <td>0.00</td>\n",
       "      <td>0.00</td>\n",
       "      <td>0.00</td>\n",
       "      <td>0.00</td>\n",
       "      <td>0.00</td>\n",
       "      <td>0.00</td>\n",
       "      <td>0.00</td>\n",
       "      <td>0.00</td>\n",
       "      <td>0.00</td>\n",
       "      <td>...</td>\n",
       "      <td>0.00</td>\n",
       "      <td>0.00</td>\n",
       "      <td>0.00</td>\n",
       "      <td>0.00</td>\n",
       "      <td>0.00</td>\n",
       "      <td>0.00</td>\n",
       "      <td>0.00</td>\n",
       "      <td>0.00</td>\n",
       "      <td>0.00</td>\n",
       "      <td>0.00</td>\n",
       "    </tr>\n",
       "  </tbody>\n",
       "</table>\n",
       "<p>3 rows × 75052 columns</p>\n",
       "</div>"
      ],
      "text/plain": [
       "cid  1          2          3          4          5          6          \\\n",
       "0         0.00       0.00       0.00       0.00       0.00       0.00   \n",
       "1         0.00       0.00       0.00       0.00       0.00       0.00   \n",
       "2         0.00       0.00       0.00       0.00       0.00       0.00   \n",
       "\n",
       "cid  7          8          9          10         ...  254850304  254850305  \\\n",
       "0         0.00       0.00       0.00       0.00  ...       0.00       0.00   \n",
       "1         0.00       0.00       0.00       0.00  ...       0.00       0.00   \n",
       "2         0.00       0.00       0.00       0.00  ...       0.00       0.00   \n",
       "\n",
       "cid  254850306  254850307  254850308  254850309  254855680  254855681  \\\n",
       "0         0.00       0.00       0.00       0.00       0.00       0.00   \n",
       "1         0.00       0.00       0.00       0.00       0.00       0.00   \n",
       "2         0.00       0.00       0.00       0.00       0.00       0.00   \n",
       "\n",
       "cid  254855683  254855684  \n",
       "0         0.00       0.00  \n",
       "1         0.00       0.00  \n",
       "2         0.00       0.00  \n",
       "\n",
       "[3 rows x 75052 columns]"
      ]
     },
     "execution_count": 5,
     "metadata": {},
     "output_type": "execute_result"
    }
   ],
   "source": [
    "#удалим колонку с идентификатором клиента, чтобы потом сделать вектор по каждому клиенту\n",
    "data3 = data2.drop('hash_id', axis=1)\n",
    "data3.head(3)"
   ]
  },
  {
   "cell_type": "code",
   "execution_count": 6,
   "id": "392b6ab2",
   "metadata": {},
   "outputs": [
    {
     "data": {
      "text/plain": [
       "[array([0., 0., 0., ..., 0., 0., 0.]),\n",
       " array([0., 0., 0., ..., 0., 0., 0.]),\n",
       " array([0., 0., 0., ..., 0., 0., 0.])]"
      ]
     },
     "execution_count": 6,
     "metadata": {},
     "output_type": "execute_result"
    }
   ],
   "source": [
    "#Сделаем вектор по каждому клиенту\n",
    "vector=[]\n",
    "for idx, row in data3.iterrows():\n",
    "    p=row.to_numpy()\n",
    "    vector.append(p)\n",
    "\n",
    "vector[:3]"
   ]
  },
  {
   "cell_type": "markdown",
   "id": "0de4252d",
   "metadata": {},
   "source": [
    "# Посчитаем косинусное сходство между векторами"
   ]
  },
  {
   "cell_type": "code",
   "execution_count": 7,
   "id": "188caec7",
   "metadata": {},
   "outputs": [],
   "source": [
    "from scipy import sparse\n",
    "from sklearn.metrics.pairwise import cosine_similarity"
   ]
  },
  {
   "cell_type": "code",
   "execution_count": 8,
   "id": "82d3c7ed",
   "metadata": {},
   "outputs": [],
   "source": [
    "#Сформируем матрицу косинусного сходства между векторами\n",
    "vector_sparse = sparse.csr_matrix(vector)\n",
    "similarities_sparse = cosine_similarity(vector_sparse,dense_output=False)"
   ]
  },
  {
   "cell_type": "code",
   "execution_count": 9,
   "id": "545dcd65",
   "metadata": {},
   "outputs": [
    {
     "data": {
      "text/html": [
       "<div>\n",
       "<style scoped>\n",
       "    .dataframe tbody tr th:only-of-type {\n",
       "        vertical-align: middle;\n",
       "    }\n",
       "\n",
       "    .dataframe tbody tr th {\n",
       "        vertical-align: top;\n",
       "    }\n",
       "\n",
       "    .dataframe thead th {\n",
       "        text-align: right;\n",
       "    }\n",
       "</style>\n",
       "<table border=\"1\" class=\"dataframe\">\n",
       "  <thead>\n",
       "    <tr style=\"text-align: right;\">\n",
       "      <th></th>\n",
       "      <th>index1</th>\n",
       "      <th>index2</th>\n",
       "      <th>similarity</th>\n",
       "    </tr>\n",
       "  </thead>\n",
       "  <tbody>\n",
       "    <tr>\n",
       "      <th>0</th>\n",
       "      <td>0</td>\n",
       "      <td>0</td>\n",
       "      <td>1.00</td>\n",
       "    </tr>\n",
       "    <tr>\n",
       "      <th>1</th>\n",
       "      <td>0</td>\n",
       "      <td>1</td>\n",
       "      <td>0.00</td>\n",
       "    </tr>\n",
       "    <tr>\n",
       "      <th>2</th>\n",
       "      <td>0</td>\n",
       "      <td>2</td>\n",
       "      <td>0.00</td>\n",
       "    </tr>\n",
       "  </tbody>\n",
       "</table>\n",
       "</div>"
      ],
      "text/plain": [
       "   index1  index2  similarity\n",
       "0       0       0        1.00\n",
       "1       0       1        0.00\n",
       "2       0       2        0.00"
      ]
     },
     "execution_count": 9,
     "metadata": {},
     "output_type": "execute_result"
    }
   ],
   "source": [
    "#Переведем матрицу в pandas dataframe. index1 и index2 = номер строки (индексы) между которыми посчитано сходство (similarity)\n",
    "res_sim = similarities_sparse.tocoo(copy=False)\n",
    "\n",
    "result_df = pd.DataFrame({'index1': res_sim.row, 'index2': res_sim.col, 'similarity': res_sim.data}\n",
    "                 )[['index1', 'index2', 'similarity']].sort_values(['index1', 'index2']\n",
    "                 ).reset_index(drop=True)\n",
    "result_df.head(3)\n"
   ]
  },
  {
   "cell_type": "code",
   "execution_count": 10,
   "id": "348f982b",
   "metadata": {},
   "outputs": [
    {
     "data": {
      "text/html": [
       "<div>\n",
       "<style scoped>\n",
       "    .dataframe tbody tr th:only-of-type {\n",
       "        vertical-align: middle;\n",
       "    }\n",
       "\n",
       "    .dataframe tbody tr th {\n",
       "        vertical-align: top;\n",
       "    }\n",
       "\n",
       "    .dataframe thead th {\n",
       "        text-align: right;\n",
       "    }\n",
       "</style>\n",
       "<table border=\"1\" class=\"dataframe\">\n",
       "  <thead>\n",
       "    <tr style=\"text-align: right;\">\n",
       "      <th></th>\n",
       "      <th>index1</th>\n",
       "      <th>index2</th>\n",
       "      <th>similarity</th>\n",
       "    </tr>\n",
       "  </thead>\n",
       "  <tbody>\n",
       "    <tr>\n",
       "      <th>11593642</th>\n",
       "      <td>3032</td>\n",
       "      <td>2080</td>\n",
       "      <td>1.00</td>\n",
       "    </tr>\n",
       "    <tr>\n",
       "      <th>7935809</th>\n",
       "      <td>2080</td>\n",
       "      <td>3032</td>\n",
       "      <td>1.00</td>\n",
       "    </tr>\n",
       "    <tr>\n",
       "      <th>6207269</th>\n",
       "      <td>1627</td>\n",
       "      <td>3569</td>\n",
       "      <td>1.00</td>\n",
       "    </tr>\n",
       "  </tbody>\n",
       "</table>\n",
       "</div>"
      ],
      "text/plain": [
       "          index1  index2  similarity\n",
       "11593642    3032    2080        1.00\n",
       "7935809     2080    3032        1.00\n",
       "6207269     1627    3569        1.00"
      ]
     },
     "execution_count": 10,
     "metadata": {},
     "output_type": "execute_result"
    }
   ],
   "source": [
    "#Удалим те строки, где максимальное сходство это один и тот же hash_id (index1 = index2)\n",
    "result_clean_dub = result_df[result_df['index1'] != result_df['index2']].sort_values(by='similarity', ascending=False)\n",
    "result_clean_dub.head(3)"
   ]
  },
  {
   "cell_type": "code",
   "execution_count": 11,
   "id": "6ca5b54f",
   "metadata": {},
   "outputs": [],
   "source": [
    "#Отберем максимальное сходство по каждому клиенту\n",
    "result_clean_dub2 = result_clean_dub.groupby('index1').head(1)"
   ]
  },
  {
   "cell_type": "code",
   "execution_count": 12,
   "id": "31c71037",
   "metadata": {},
   "outputs": [],
   "source": [
    "#Сформируем словарь соответствия index1 == index2\n",
    "idx_hash_id = dict(zip(result_clean_dub2.index1, result_clean_dub2.index2))"
   ]
  },
  {
   "cell_type": "code",
   "execution_count": 13,
   "id": "a78e3990",
   "metadata": {},
   "outputs": [],
   "source": [
    "#Сформируем словарь соответствия index строки == hash_id\n",
    "data2_hash = dict(zip(data2.index, data2.hash_id))"
   ]
  },
  {
   "cell_type": "code",
   "execution_count": 14,
   "id": "d7074426",
   "metadata": {},
   "outputs": [
    {
     "name": "stderr",
     "output_type": "stream",
     "text": [
      "C:\\Users\\sselu\\AppData\\Local\\Temp\\ipykernel_13780\\2529859228.py:2: SettingWithCopyWarning: \n",
      "A value is trying to be set on a copy of a slice from a DataFrame.\n",
      "Try using .loc[row_indexer,col_indexer] = value instead\n",
      "\n",
      "See the caveats in the documentation: https://pandas.pydata.org/pandas-docs/stable/user_guide/indexing.html#returning-a-view-versus-a-copy\n",
      "  result_clean_dub2['hash_id_id1'] = result_clean_dub2['index1'].map(data2_hash)\n",
      "C:\\Users\\sselu\\AppData\\Local\\Temp\\ipykernel_13780\\2529859228.py:3: SettingWithCopyWarning: \n",
      "A value is trying to be set on a copy of a slice from a DataFrame.\n",
      "Try using .loc[row_indexer,col_indexer] = value instead\n",
      "\n",
      "See the caveats in the documentation: https://pandas.pydata.org/pandas-docs/stable/user_guide/indexing.html#returning-a-view-versus-a-copy\n",
      "  result_clean_dub2['hash_id_id2'] = result_clean_dub2['index2'].map(data2_hash)\n"
     ]
    },
    {
     "data": {
      "text/html": [
       "<div>\n",
       "<style scoped>\n",
       "    .dataframe tbody tr th:only-of-type {\n",
       "        vertical-align: middle;\n",
       "    }\n",
       "\n",
       "    .dataframe tbody tr th {\n",
       "        vertical-align: top;\n",
       "    }\n",
       "\n",
       "    .dataframe thead th {\n",
       "        text-align: right;\n",
       "    }\n",
       "</style>\n",
       "<table border=\"1\" class=\"dataframe\">\n",
       "  <thead>\n",
       "    <tr style=\"text-align: right;\">\n",
       "      <th></th>\n",
       "      <th>index1</th>\n",
       "      <th>index2</th>\n",
       "      <th>similarity</th>\n",
       "      <th>hash_id_id1</th>\n",
       "      <th>hash_id_id2</th>\n",
       "    </tr>\n",
       "  </thead>\n",
       "  <tbody>\n",
       "    <tr>\n",
       "      <th>11593642</th>\n",
       "      <td>3032</td>\n",
       "      <td>2080</td>\n",
       "      <td>1.00</td>\n",
       "      <td>2335199</td>\n",
       "      <td>1924661</td>\n",
       "    </tr>\n",
       "    <tr>\n",
       "      <th>7935809</th>\n",
       "      <td>2080</td>\n",
       "      <td>3032</td>\n",
       "      <td>1.00</td>\n",
       "      <td>1924661</td>\n",
       "      <td>2335199</td>\n",
       "    </tr>\n",
       "    <tr>\n",
       "      <th>6207269</th>\n",
       "      <td>1627</td>\n",
       "      <td>3569</td>\n",
       "      <td>1.00</td>\n",
       "      <td>1713536</td>\n",
       "      <td>2585414</td>\n",
       "    </tr>\n",
       "  </tbody>\n",
       "</table>\n",
       "</div>"
      ],
      "text/plain": [
       "          index1  index2  similarity  hash_id_id1  hash_id_id2\n",
       "11593642    3032    2080        1.00      2335199      1924661\n",
       "7935809     2080    3032        1.00      1924661      2335199\n",
       "6207269     1627    3569        1.00      1713536      2585414"
      ]
     },
     "execution_count": 14,
     "metadata": {},
     "output_type": "execute_result"
    }
   ],
   "source": [
    "#Добавить hash_id\n",
    "result_clean_dub2['hash_id_id1'] = result_clean_dub2['index1'].map(data2_hash)\n",
    "result_clean_dub2['hash_id_id2'] = result_clean_dub2['index2'].map(data2_hash)\n",
    "\n",
    "result_clean_dub2.head(3)"
   ]
  },
  {
   "cell_type": "markdown",
   "id": "2eecbbe5",
   "metadata": {},
   "source": [
    "# Проверим качество на эталонных данных"
   ]
  },
  {
   "cell_type": "code",
   "execution_count": 15,
   "id": "83528c4b",
   "metadata": {},
   "outputs": [],
   "source": [
    "from sklearn.metrics import accuracy_score"
   ]
  },
  {
   "cell_type": "code",
   "execution_count": 16,
   "id": "f7bc030f",
   "metadata": {},
   "outputs": [
    {
     "data": {
      "text/html": [
       "<div>\n",
       "<style scoped>\n",
       "    .dataframe tbody tr th:only-of-type {\n",
       "        vertical-align: middle;\n",
       "    }\n",
       "\n",
       "    .dataframe tbody tr th {\n",
       "        vertical-align: top;\n",
       "    }\n",
       "\n",
       "    .dataframe thead th {\n",
       "        text-align: right;\n",
       "    }\n",
       "</style>\n",
       "<table border=\"1\" class=\"dataframe\">\n",
       "  <thead>\n",
       "    <tr style=\"text-align: right;\">\n",
       "      <th></th>\n",
       "      <th>id1</th>\n",
       "      <th>id2</th>\n",
       "    </tr>\n",
       "  </thead>\n",
       "  <tbody>\n",
       "    <tr>\n",
       "      <th>0</th>\n",
       "      <td>1361396</td>\n",
       "      <td>2695335</td>\n",
       "    </tr>\n",
       "    <tr>\n",
       "      <th>1</th>\n",
       "      <td>1795864</td>\n",
       "      <td>2458905</td>\n",
       "    </tr>\n",
       "    <tr>\n",
       "      <th>2</th>\n",
       "      <td>1543059</td>\n",
       "      <td>2730453</td>\n",
       "    </tr>\n",
       "  </tbody>\n",
       "</table>\n",
       "</div>"
      ],
      "text/plain": [
       "       id1      id2\n",
       "0  1361396  2695335\n",
       "1  1795864  2458905\n",
       "2  1543059  2730453"
      ]
     },
     "execution_count": 16,
     "metadata": {},
     "output_type": "execute_result"
    }
   ],
   "source": [
    "etalon.head(3)"
   ]
  },
  {
   "cell_type": "code",
   "execution_count": 17,
   "id": "39e8df37",
   "metadata": {},
   "outputs": [],
   "source": [
    "#Сформируем словарь соответствия hash_id_id1 == hash_id_id2\n",
    "hash_2_hash = dict(zip(result_clean_dub2.hash_id_id1, result_clean_dub2.hash_id_id2))"
   ]
  },
  {
   "cell_type": "code",
   "execution_count": 18,
   "id": "241208b1",
   "metadata": {},
   "outputs": [],
   "source": [
    "etalon['new_predict'] = etalon['id1'].map(hash_2_hash)\n",
    "accuracy = accuracy_score(etalon['id2'], etalon['new_predict'])"
   ]
  },
  {
   "cell_type": "code",
   "execution_count": 19,
   "id": "fc7232a9",
   "metadata": {},
   "outputs": [
    {
     "name": "stdout",
     "output_type": "stream",
     "text": [
      "Точность модели составляет 0.8207739307535642\n"
     ]
    }
   ],
   "source": [
    "print(f'Точность модели составляет {accuracy}')"
   ]
  },
  {
   "cell_type": "markdown",
   "id": "84483673",
   "metadata": {},
   "source": [
    "# Сохраним результат соответствия id1, id2"
   ]
  },
  {
   "cell_type": "code",
   "execution_count": 24,
   "id": "e25b51d3",
   "metadata": {},
   "outputs": [
    {
     "data": {
      "text/html": [
       "<div>\n",
       "<style scoped>\n",
       "    .dataframe tbody tr th:only-of-type {\n",
       "        vertical-align: middle;\n",
       "    }\n",
       "\n",
       "    .dataframe tbody tr th {\n",
       "        vertical-align: top;\n",
       "    }\n",
       "\n",
       "    .dataframe thead th {\n",
       "        text-align: right;\n",
       "    }\n",
       "</style>\n",
       "<table border=\"1\" class=\"dataframe\">\n",
       "  <thead>\n",
       "    <tr style=\"text-align: right;\">\n",
       "      <th></th>\n",
       "      <th>id1</th>\n",
       "      <th>id2</th>\n",
       "    </tr>\n",
       "  </thead>\n",
       "  <tbody>\n",
       "    <tr>\n",
       "      <th>11593642</th>\n",
       "      <td>2335199</td>\n",
       "      <td>1924661</td>\n",
       "    </tr>\n",
       "    <tr>\n",
       "      <th>7935809</th>\n",
       "      <td>1924661</td>\n",
       "      <td>2335199</td>\n",
       "    </tr>\n",
       "    <tr>\n",
       "      <th>6207269</th>\n",
       "      <td>1713536</td>\n",
       "      <td>2585414</td>\n",
       "    </tr>\n",
       "  </tbody>\n",
       "</table>\n",
       "</div>"
      ],
      "text/plain": [
       "              id1      id2\n",
       "11593642  2335199  1924661\n",
       "7935809   1924661  2335199\n",
       "6207269   1713536  2585414"
      ]
     },
     "execution_count": 24,
     "metadata": {},
     "output_type": "execute_result"
    }
   ],
   "source": [
    "data_to_save = result_clean_dub2[['hash_id_id1','hash_id_id2']].rename({'hash_id_id1': 'id1', 'hash_id_id2': 'id2'}, axis=1)\n",
    "data_to_save.head(3)"
   ]
  },
  {
   "cell_type": "code",
   "execution_count": 25,
   "id": "2c926d00",
   "metadata": {},
   "outputs": [],
   "source": [
    "data_to_save.to_csv('predict.csv', sep=';', index=False)"
   ]
  }
 ],
 "metadata": {
  "kernelspec": {
   "display_name": "Python 3 (ipykernel)",
   "language": "python",
   "name": "python3"
  },
  "language_info": {
   "codemirror_mode": {
    "name": "ipython",
    "version": 3
   },
   "file_extension": ".py",
   "mimetype": "text/x-python",
   "name": "python",
   "nbconvert_exporter": "python",
   "pygments_lexer": "ipython3",
   "version": "3.9.12"
  }
 },
 "nbformat": 4,
 "nbformat_minor": 5
}
