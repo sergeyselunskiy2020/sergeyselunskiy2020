{
 "cells": [
  {
   "cell_type": "code",
   "execution_count": null,
   "id": "d3a64e50",
   "metadata": {},
   "outputs": [],
   "source": [
    "import warnings\n",
    "warnings.filterwarnings('ignore')"
   ]
  },
  {
   "cell_type": "code",
   "execution_count": null,
   "id": "bb0600dc",
   "metadata": {},
   "outputs": [],
   "source": [
    "### Установим красивые дефолтные настройки\n",
    "### Может быть лень постоянно прописывать\n",
    "### У графиков параметры цвета, размера, шрифта\n",
    "### Можно положить их в словарь дефолтных настроек\n",
    "\n",
    "import matplotlib as mlp\n",
    "\n",
    "mlp.rcParams['lines.linewidth'] = 5\n",
    "\n",
    "mlp.rcParams['xtick.major.size'] = 20\n",
    "mlp.rcParams['xtick.major.width'] = 5\n",
    "mlp.rcParams['xtick.labelsize'] = 20\n",
    "mlp.rcParams['xtick.color'] = '#FF5533'\n",
    "\n",
    "mlp.rcParams['ytick.major.size'] = 20\n",
    "mlp.rcParams['ytick.major.width'] = 5\n",
    "mlp.rcParams['ytick.labelsize'] = 20\n",
    "mlp.rcParams['ytick.color'] = '#FF5533'\n",
    "\n",
    "mlp.rcParams['axes.labelsize'] = 20\n",
    "mlp.rcParams['axes.titlesize'] = 20\n",
    "mlp.rcParams['axes.titlecolor'] = '#00B050'\n",
    "mlp.rcParams['axes.labelcolor'] = '#00B050'"
   ]
  },
  {
   "cell_type": "markdown",
   "id": "3802fa76",
   "metadata": {},
   "source": [
    "### KNN: часть 1\n",
    "\n",
    "Сгенерируем случайную выборку и попробуем пронаблюдать, как при разных значениях `K` будут меняться результаты модели, основанной на ближайших соседях!\n"
   ]
  },
  {
   "cell_type": "code",
   "execution_count": null,
   "id": "9eaa14ab",
   "metadata": {},
   "outputs": [],
   "source": [
    "import pandas as pd\n",
    "import numpy as np\n",
    "import matplotlib.pyplot as plt\n",
    "\n",
    "pd.options.display.max_columns = 500"
   ]
  },
  {
   "cell_type": "code",
   "execution_count": null,
   "id": "da5b091a",
   "metadata": {},
   "outputs": [],
   "source": [
    "X = np.random.uniform(low=0, high=20, size=(500, 1))\n",
    "\n",
    "def target(x):  \n",
    "    return x + 3 * np.sin(2*x)\n",
    "\n",
    "\n",
    "noise = np.random.normal(loc=0, scale=1, size=(500,1))\n",
    "\n",
    "Y = target(X) + noise"
   ]
  },
  {
   "cell_type": "code",
   "execution_count": null,
   "id": "75976868",
   "metadata": {
    "tags": []
   },
   "outputs": [],
   "source": [
    "import seaborn as sns\n",
    "\n",
    "fig = plt.figure()\n",
    "\n",
    "fig.set_size_inches(16, 10)\n",
    "\n",
    "sns.scatterplot(X.ravel(), Y.ravel())\n",
    "\n",
    "plt.show()"
   ]
  },
  {
   "cell_type": "code",
   "execution_count": null,
   "id": "d2f0a359",
   "metadata": {},
   "outputs": [],
   "source": [
    "from sklearn.neighbors import KNeighborsRegressor\n",
    "from sklearn.linear_model import LinearRegression\n",
    "from sklearn.model_selection import KFold\n",
    "from sklearn.model_selection import cross_validate\n",
    "\n",
    "splitter = KFold(n_splits=5, shuffle=True, random_state=33)\n",
    "\n",
    "linear = LinearRegression()\n",
    "knn = KNeighborsRegressor(n_neighbors=3) \n",
    "\n",
    "linear_cv = cross_validate(linear, X, Y, \n",
    "                           cv=splitter, scoring='neg_mean_squared_error',\n",
    "                           return_train_score=True)\n",
    "\n",
    "knn_cv = cross_validate(knn, X, Y, \n",
    "                        cv=splitter, scoring='neg_mean_squared_error',\n",
    "                        return_train_score=True)"
   ]
  },
  {
   "cell_type": "code",
   "execution_count": null,
   "id": "cb26c173",
   "metadata": {},
   "outputs": [],
   "source": [
    "print(f\"Среднее MSE линейной модели на трейне: {-np.mean(linear_cv['train_score']).round(3)}\")\n",
    "print(f\"Среднее MSE линейной модели на тесте: {-np.mean(linear_cv['test_score']).round(3)}\")\n",
    "\n",
    "print(f\"\\nСреднее MSE KNN модели на трейне: {-np.mean(knn_cv['train_score']).round(3)}\")\n",
    "print(f\"Среднее MSE KNN модели на тесте: {-np.mean(knn_cv['test_score']).round(3)}\")"
   ]
  },
  {
   "cell_type": "code",
   "execution_count": null,
   "id": "bf5487a4",
   "metadata": {},
   "outputs": [],
   "source": [
    "### Обучим модель на всей выборке\n",
    "\n",
    "linear.fit(X, Y)\n",
    "knn.fit(X, Y)"
   ]
  },
  {
   "cell_type": "code",
   "execution_count": null,
   "id": "e39a3206",
   "metadata": {},
   "outputs": [],
   "source": [
    "### Пришли новые данные!\n",
    "\n",
    "new_X = np.random.uniform(low=20, high=30, size=(50, 1))\n",
    "\n",
    "new_noise = np.random.normal(loc=0, scale=1, size=(50, 1))\n",
    "\n",
    "new_Y = target(new_X) + new_noise\n",
    "\n",
    "knn_preds = knn.predict(new_X)\n",
    "linear_preds = linear.predict(new_X)"
   ]
  },
  {
   "cell_type": "code",
   "execution_count": null,
   "id": "467f07a9",
   "metadata": {},
   "outputs": [],
   "source": [
    "print(f\"MSE KNN модели на новых данных: {np.mean((knn_preds-new_Y)**2).round(3)}\")\n",
    "print(f\"MSE линейной модели новых данных: {np.mean((linear_preds-new_Y)**2).round(3)}\")"
   ]
  },
  {
   "cell_type": "code",
   "execution_count": null,
   "id": "ec7612e5",
   "metadata": {},
   "outputs": [],
   "source": [
    "fig = plt.figure()\n",
    "\n",
    "fig.set_size_inches(16, 10)\n",
    "\n",
    "sns.scatterplot(new_X.ravel(), new_Y.ravel())\n",
    "sns.scatterplot(X.ravel(), Y.ravel())\n",
    "sns.scatterplot(new_X.ravel(), linear_preds.ravel())\n",
    "sns.scatterplot(new_X.ravel(), knn_preds.ravel())\n",
    "\n",
    "\n",
    "plt.legend([\"new_data\", \"training_data\", \"linear_preds\", \"knn_preds\"])\n",
    "\n",
    "plt.show()"
   ]
  },
  {
   "cell_type": "markdown",
   "id": "bf2ca9ef",
   "metadata": {},
   "source": [
    "### KNN: подбор числа K"
   ]
  },
  {
   "cell_type": "code",
   "execution_count": null,
   "id": "f89a5f75",
   "metadata": {},
   "outputs": [],
   "source": [
    "from sklearn.model_selection import train_test_split\n",
    "\n",
    "X_train, X_test, y_train, y_test = train_test_split(X, Y,\n",
    "                                                    test_size=0.33, \n",
    "                                                    random_state=33)\n",
    "\n",
    "fig = plt.figure()\n",
    "fig.set_size_inches(20, 20)\n",
    "\n",
    "for K in range(1, 10):\n",
    "\n",
    "    knn = KNeighborsRegressor(n_neighbors=K) \n",
    "    knn.fit(X_train, y_train)\n",
    "    \n",
    "    preds_test = knn.predict(X_test)\n",
    "    \n",
    "    ax = fig.add_subplot(3, 3, K)\n",
    "    \n",
    "    sns.scatterplot(X.ravel(), Y.ravel())\n",
    "    sns.lineplot(X_test.ravel(), preds_test.ravel(), size=3, color='#FF5533')\n",
    "    plt.legend([\"all_data\", f\"knn_with_{K}_neighbors\"])\n",
    "\n",
    "fig.tight_layout()\n",
    "\n",
    "plt.show()"
   ]
  },
  {
   "cell_type": "markdown",
   "id": "ddd83d51",
   "metadata": {},
   "source": [
    "Совсем большие K тоже плохо, ведь чем оно больше, тем прогноз больше похож просто на среднее по трейну."
   ]
  },
  {
   "cell_type": "code",
   "execution_count": null,
   "id": "e506fe4d",
   "metadata": {},
   "outputs": [],
   "source": [
    "X_train.shape"
   ]
  },
  {
   "cell_type": "code",
   "execution_count": null,
   "id": "ee0a6322",
   "metadata": {},
   "outputs": [],
   "source": [
    "knn = KNeighborsRegressor(n_neighbors=335)\n",
    "\n",
    "fig = plt.figure()\n",
    "fig.set_size_inches(16, 10)\n",
    "\n",
    "knn.fit(X_train, y_train)\n",
    "    \n",
    "preds_test = knn.predict(X_test)\n",
    "\n",
    "sns.scatterplot(X.ravel(), Y.ravel())\n",
    "sns.lineplot(X_test.ravel(), preds_test.ravel(), size=3, color='#FF5533')\n",
    "plt.legend([\"all_data\", f\"knn_with_100_neighbors\"])\n",
    "\n",
    "plt.show()"
   ]
  },
  {
   "cell_type": "code",
   "execution_count": null,
   "id": "a7d68ace",
   "metadata": {},
   "outputs": [],
   "source": [
    "from sklearn.model_selection import GridSearchCV\n",
    "\n",
    "param_grid = {\n",
    "    'n_neighbors': [1, 2, 3, 4, 5, 6, 7, 8, 9, 10]\n",
    "}\n",
    "\n",
    "search = GridSearchCV(knn, param_grid, cv=splitter)\n",
    "\n",
    "search.fit(X, Y)\n",
    "\n",
    "print(f\"Best parameter (CV score={search.best_score_:.5f}):\")\n",
    "print(search.best_params_)"
   ]
  },
  {
   "cell_type": "markdown",
   "id": "81810dc9",
   "metadata": {},
   "source": [
    "Ширина Гауссовского ядра"
   ]
  },
  {
   "cell_type": "markdown",
   "id": "9da14f79",
   "metadata": {},
   "source": [
    "$$\n",
    "w_i = \\frac{1}{\\sqrt{2\\cdot\\pi}} \\cdot exp(-\\frac{1}{2}\\cdot \\frac{\\rho^2 (x, x_i)}{h^2})\n",
    "$$"
   ]
  },
  {
   "cell_type": "code",
   "execution_count": null,
   "id": "8af7c27f",
   "metadata": {},
   "outputs": [],
   "source": [
    "from sklearn.neighbors import KernelDensity\n",
    "\n",
    "fig = plt.figure()\n",
    "fig.set_size_inches(20, 40)\n",
    "\n",
    "k=1\n",
    "\n",
    "for h in [0.01, 0.01, 10, 100, 500]:\n",
    "    \n",
    "    def kernel(distances, h=h):\n",
    "    \n",
    "        const = 1 / (np.sqrt(2 * np.pi))\n",
    "        power = (-1/2) * ((distances)**2) / h**2\n",
    "    \n",
    "        return const * np.exp(power)\n",
    "\n",
    "    knn = KNeighborsRegressor(n_neighbors=8, weights=kernel)\n",
    "    knn.fit(X_train, y_train)\n",
    "    \n",
    "    preds_test = knn.predict(X_test)\n",
    "    \n",
    "    ax = fig.add_subplot(5, 1, k)\n",
    "    \n",
    "    k += 1\n",
    "    \n",
    "    sns.scatterplot(X.ravel(), Y.ravel())\n",
    "    sns.lineplot(X_test.ravel(), preds_test.ravel(), size=3, color='#FF5533')\n",
    "    plt.legend([\"all_data\", f\"knn_with_{h}-windowed_kernel_neighbors\"])\n",
    "\n",
    "fig.tight_layout()\n"
   ]
  },
  {
   "cell_type": "markdown",
   "id": "36a77beb",
   "metadata": {},
   "source": [
    "### KNN: сегментация клиентов"
   ]
  },
  {
   "cell_type": "code",
   "execution_count": null,
   "id": "5dfafab9",
   "metadata": {},
   "outputs": [],
   "source": [
    "data = pd.read_excel('processed_segmentation.xlsx')\n",
    "\n",
    "data.head()"
   ]
  },
  {
   "cell_type": "code",
   "execution_count": null,
   "id": "7a21a89a",
   "metadata": {},
   "outputs": [],
   "source": [
    "X = data.drop(\"Segmentation\", axis=1)\n",
    "Y = data[\"Segmentation\"]"
   ]
  },
  {
   "cell_type": "markdown",
   "id": "62fa4a9a",
   "metadata": {},
   "source": [
    "One vs Rest без подбора гиперпараметров:\n",
    "\n",
    "<div>\n",
    "<img src=\"onevsrest.png\" width=\"1000\"/>\n",
    "</div>"
   ]
  },
  {
   "cell_type": "code",
   "execution_count": null,
   "id": "0a76b856",
   "metadata": {},
   "outputs": [],
   "source": [
    "def kernel(distances, h=1):\n",
    "    \n",
    "        const = 1 / (np.sqrt(2 * np.pi))\n",
    "        power = (-1/2) * ((distances)**2) / h**2\n",
    "    \n",
    "        return const * np.exp(power)"
   ]
  },
  {
   "cell_type": "code",
   "execution_count": null,
   "id": "7b266b95",
   "metadata": {},
   "outputs": [],
   "source": [
    "from sklearn.pipeline import Pipeline\n",
    "from sklearn.neighbors import KNeighborsClassifier\n",
    "from sklearn.preprocessing import StandardScaler\n",
    "from sklearn.model_selection import train_test_split\n",
    "\n",
    "X_train, X_test, Y_train, Y_test = train_test_split(X, Y,\n",
    "                                                    random_state=0,\n",
    "                                                    test_size=0.2)\n",
    "\n",
    "pipe = Pipeline([('scaler', StandardScaler()), \n",
    "                 ('KNN', KNeighborsClassifier(weights=kernel))])\n",
    "\n",
    "pipe.fit(X_train, Y_train)"
   ]
  },
  {
   "cell_type": "code",
   "execution_count": null,
   "id": "4d1fb1cd",
   "metadata": {},
   "outputs": [],
   "source": [
    "### Замерим accuracy\n",
    "\n",
    "print(f\"Качество на трейне: {np.mean(pipe.predict(X_train) == Y_train).round(3)}\")\n",
    "\n",
    "print(f\"Качество на тесте: {np.mean(pipe.predict(X_test) == Y_test).round(3)}\")"
   ]
  },
  {
   "cell_type": "code",
   "execution_count": null,
   "id": "4c6408e3",
   "metadata": {},
   "outputs": [],
   "source": [
    "pipe.get_params()"
   ]
  },
  {
   "cell_type": "code",
   "execution_count": null,
   "id": "e1a60e1e",
   "metadata": {},
   "outputs": [],
   "source": [
    "np.linspace(1, 5, 5, dtype=int)"
   ]
  },
  {
   "cell_type": "code",
   "execution_count": null,
   "id": "0c0b6bec",
   "metadata": {},
   "outputs": [],
   "source": [
    "from sklearn.model_selection import GridSearchCV\n",
    "\n",
    "param_grid = {\n",
    "    'KNN__n_neighbors': np.linspace(1, 100, 10, dtype=int),\n",
    "    'KNN__p': np.linspace(1, 5, 5, dtype=int),\n",
    "    'KNN__weights': ['uniform', 'distance', kernel]\n",
    "}\n",
    "\n",
    "from sklearn.model_selection import PredefinedSplit\n",
    "\n",
    "test_fold = [0 if x in X_train.index else -1 for x in X.index]\n",
    "ps = PredefinedSplit(test_fold)\n",
    "\n",
    "search = GridSearchCV(pipe, param_grid, cv=ps)\n",
    "\n",
    "search.fit(X, Y)\n",
    "\n",
    "print(f\"Best parameter (CV score={search.best_score_:.5f}):\")\n",
    "print(search.best_params_)"
   ]
  },
  {
   "cell_type": "code",
   "execution_count": null,
   "id": "dccdfebf",
   "metadata": {},
   "outputs": [],
   "source": []
  }
 ],
 "metadata": {
  "kernelspec": {
   "display_name": "Python 3 (ipykernel)",
   "language": "python",
   "name": "python3"
  },
  "language_info": {
   "codemirror_mode": {
    "name": "ipython",
    "version": 3
   },
   "file_extension": ".py",
   "mimetype": "text/x-python",
   "name": "python",
   "nbconvert_exporter": "python",
   "pygments_lexer": "ipython3",
   "version": "3.9.7"
  }
 },
 "nbformat": 4,
 "nbformat_minor": 5
}
